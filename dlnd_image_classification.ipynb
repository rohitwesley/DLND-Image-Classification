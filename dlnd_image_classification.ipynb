{
 "cells": [
  {
   "cell_type": "markdown",
   "metadata": {
    "collapsed": true
   },
   "source": [
    "# Image Classification\n",
    "In this project, you'll classify images from the [CIFAR-10 dataset](https://www.cs.toronto.edu/~kriz/cifar.html).  The dataset consists of airplanes, dogs, cats, and other objects. You'll preprocess the images, then train a convolutional neural network on all the samples. The images need to be normalized and the labels need to be one-hot encoded.  You'll get to apply what you learned and build a convolutional, max pooling, dropout, and fully connected layers.  At the end, you'll get to see your neural network's predictions on the sample images.\n",
    "## Get the Data\n",
    "Run the following cell to download the [CIFAR-10 dataset for python](https://www.cs.toronto.edu/~kriz/cifar-10-python.tar.gz)."
   ]
  },
  {
   "cell_type": "code",
   "execution_count": 1,
   "metadata": {},
   "outputs": [
    {
     "name": "stdout",
     "output_type": "stream",
     "text": [
      "All files found!\n"
     ]
    }
   ],
   "source": [
    "\"\"\"\n",
    "DON'T MODIFY ANYTHING IN THIS CELL THAT IS BELOW THIS LINE\n",
    "\"\"\"\n",
    "from urllib.request import urlretrieve\n",
    "from os.path import isfile, isdir\n",
    "from tqdm import tqdm\n",
    "import problem_unittests as tests\n",
    "import tarfile\n",
    "\n",
    "cifar10_dataset_folder_path = 'cifar-10-batches-py'\n",
    "\n",
    "# Use Floyd's cifar-10 dataset if present\n",
    "floyd_cifar10_location = '/cifar/cifar-10-python.tar.gz'\n",
    "if isfile(floyd_cifar10_location):\n",
    "    tar_gz_path = floyd_cifar10_location\n",
    "else:\n",
    "    tar_gz_path = 'cifar-10-python.tar.gz'\n",
    "\n",
    "class DLProgress(tqdm):\n",
    "    last_block = 0\n",
    "\n",
    "    def hook(self, block_num=1, block_size=1, total_size=None):\n",
    "        self.total = total_size\n",
    "        self.update((block_num - self.last_block) * block_size)\n",
    "        self.last_block = block_num\n",
    "\n",
    "if not isfile(tar_gz_path):\n",
    "    with DLProgress(unit='B', unit_scale=True, miniters=1, desc='CIFAR-10 Dataset') as pbar:\n",
    "        urlretrieve(\n",
    "            'https://www.cs.toronto.edu/~kriz/cifar-10-python.tar.gz',\n",
    "            tar_gz_path,\n",
    "            pbar.hook)\n",
    "\n",
    "if not isdir(cifar10_dataset_folder_path):\n",
    "    with tarfile.open(tar_gz_path) as tar:\n",
    "        tar.extractall()\n",
    "        tar.close()\n",
    "\n",
    "\n",
    "tests.test_folder_path(cifar10_dataset_folder_path)"
   ]
  },
  {
   "cell_type": "markdown",
   "metadata": {},
   "source": [
    "## Explore the Data\n",
    "The dataset is broken into batches to prevent your machine from running out of memory.  The CIFAR-10 dataset consists of 5 batches, named `data_batch_1`, `data_batch_2`, etc.. Each batch contains the labels and images that are one of the following:\n",
    "* airplane\n",
    "* automobile\n",
    "* bird\n",
    "* cat\n",
    "* deer\n",
    "* dog\n",
    "* frog\n",
    "* horse\n",
    "* ship\n",
    "* truck\n",
    "\n",
    "Understanding a dataset is part of making predictions on the data.  Play around with the code cell below by changing the `batch_id` and `sample_id`. The `batch_id` is the id for a batch (1-5). The `sample_id` is the id for a image and label pair in the batch.\n",
    "\n",
    "Ask yourself \"What are all possible labels?\", \"What is the range of values for the image data?\", \"Are the labels in order or random?\".  Answers to questions like these will help you preprocess the data and end up with better predictions."
   ]
  },
  {
   "cell_type": "code",
   "execution_count": 2,
   "metadata": {},
   "outputs": [
    {
     "name": "stdout",
     "output_type": "stream",
     "text": [
      "\n",
      "Stats of batch 1:\n",
      "Samples: 10000\n",
      "Label Counts: {0: 1005, 1: 974, 2: 1032, 3: 1016, 4: 999, 5: 937, 6: 1030, 7: 1001, 8: 1025, 9: 981}\n",
      "First 20 Labels: [6, 9, 9, 4, 1, 1, 2, 7, 8, 3, 4, 7, 7, 2, 9, 9, 9, 3, 2, 6]\n",
      "\n",
      "Example of Image 5:\n",
      "Image - Min Value: 0 Max Value: 252\n",
      "Image - Shape: (32, 32, 3)\n",
      "Label - Label Id: 1 Name: automobile\n"
     ]
    },
    {
     "data": {
      "image/png": "[encoded data removed]",
      "text/plain": [
       "<matplotlib.figure.Figure at 0x112a87668>"
      ]
     },
     "metadata": {
      "image/png": {
       "height": 250,
       "width": 253
      }
     },
     "output_type": "display_data"
    }
   ],
   "source": [
    "%matplotlib inline\n",
    "%config InlineBackend.figure_format = 'retina'\n",
    "\n",
    "import helper\n",
    "import numpy as np\n",
    "\n",
    "# Explore the dataset\n",
    "batch_id = 1\n",
    "sample_id = 5\n",
    "helper.display_stats(cifar10_dataset_folder_path, batch_id, sample_id)"
   ]
  },
  {
   "cell_type": "markdown",
   "metadata": {},
   "source": [
    "## Implement Preprocess Functions\n",
    "### Normalize\n",
    "In the cell below, implement the `normalize` function to take in image data, `x`, and return it as a normalized Numpy array. The values should be in the range of 0 to 1, inclusive.  The return object should be the same shape as `x`."
   ]
  },
  {
   "cell_type": "code",
   "execution_count": 3,
   "metadata": {},
   "outputs": [
    {
     "name": "stdout",
     "output_type": "stream",
     "text": [
      "Tests Passed\n"
     ]
    }
   ],
   "source": [
    "def normalize(x):\n",
    "    \"\"\"\n",
    "    Normalize a list of sample image data in the range of 0 to 1\n",
    "    : x: List of image data.  The image shape is (32, 32, 3)\n",
    "    : return: Numpy array of normalize data\n",
    "    \"\"\"\n",
    "    # TODO: Implement Function\n",
    "    # Definine the max and min values for the image \n",
    "    # (makes reading faster this way than looking for them inside the array)\n",
    "    xMin = 0.\n",
    "    xMax = 255.\n",
    "    # Define the new max and min values\n",
    "    nMax = 1.\n",
    "    nMin = 0.\n",
    "    # Convert the input to a numpy array\n",
    "    x_np = np.array(x)\n",
    "    # Apply transform\n",
    "    x_np = (x_np - xMin)*(nMax - nMin)/(xMax - xMin) + nMin\n",
    "    return x_np\n",
    "\n",
    "\n",
    "\"\"\"\n",
    "DON'T MODIFY ANYTHING IN THIS CELL THAT IS BELOW THIS LINE\n",
    "\"\"\"\n",
    "tests.test_normalize(normalize)"
   ]
  },
  {
   "cell_type": "markdown",
   "metadata": {},
   "source": [
    "### One-hot encode\n",
    "Just like the previous code cell, you'll be implementing a function for preprocessing.  This time, you'll implement the `one_hot_encode` function. The input, `x`, are a list of labels.  Implement the function to return the list of labels as One-Hot encoded Numpy array.  The possible values for labels are 0 to 9. The one-hot encoding function should return the same encoding for each value between each call to `one_hot_encode`.  Make sure to save the map of encodings outside the function.\n",
    "\n",
    "Hint: Don't reinvent the wheel."
   ]
  },
  {
   "cell_type": "code",
   "execution_count": 5,
   "metadata": {},
   "outputs": [
    {
     "name": "stdout",
     "output_type": "stream",
     "text": [
      "Tests Passed\n"
     ]
    }
   ],
   "source": [
    "from sklearn.preprocessing import LabelBinarizer \n",
    "def one_hot_encode(x):\n",
    "    \"\"\"\n",
    "    One hot encode a list of sample labels. Return a one-hot encoded vector for each label.\n",
    "    : x: List of sample Labels\n",
    "    : return: Numpy array of one-hot encoded labels\n",
    "    \"\"\"\n",
    "    # TODO: Implement Function\n",
    "    # The size of the vector to one encode\n",
    "    encoding_size = 10\n",
    "    # Use the sklearn library to one encode our incoming vector \n",
    "    encoder = LabelBinarizer().fit(np.arange(encoding_size, dtype=np.float32))\n",
    "    return encoder.transform(x)\n",
    "\n",
    "\n",
    "\"\"\"\n",
    "DON'T MODIFY ANYTHING IN THIS CELL THAT IS BELOW THIS LINE\n",
    "\"\"\"\n",
    "tests.test_one_hot_encode(one_hot_encode)"
   ]
  },
  {
   "cell_type": "markdown",
   "metadata": {},
   "source": [
    "### Randomize Data\n",
    "As you saw from exploring the data above, the order of the samples are randomized.  It doesn't hurt to randomize it again, but you don't need to for this dataset."
   ]
  },
  {
   "cell_type": "markdown",
   "metadata": {},
   "source": [
    "## Preprocess all the data and save it\n",
    "Running the code cell below will preprocess all the CIFAR-10 data and save it to file. The code below also uses 10% of the training data for validation."
   ]
  },
  {
   "cell_type": "code",
   "execution_count": 6,
   "metadata": {
    "collapsed": true
   },
   "outputs": [],
   "source": [
    "\"\"\"\n",
    "DON'T MODIFY ANYTHING IN THIS CELL\n",
    "\"\"\"\n",
    "# Preprocess Training, Validation, and Testing Data\n",
    "helper.preprocess_and_save_data(cifar10_dataset_folder_path, normalize, one_hot_encode)"
   ]
  },
  {
   "cell_type": "markdown",
   "metadata": {},
   "source": [
    "# Check Point\n",
    "This is your first checkpoint.  If you ever decide to come back to this notebook or have to restart the notebook, you can start from here.  The preprocessed data has been saved to disk."
   ]
  },
  {
   "cell_type": "code",
   "execution_count": 7,
   "metadata": {
    "collapsed": true
   },
   "outputs": [],
   "source": [
    "\"\"\"\n",
    "DON'T MODIFY ANYTHING IN THIS CELL\n",
    "\"\"\"\n",
    "import pickle\n",
    "import problem_unittests as tests\n",
    "import helper\n",
    "\n",
    "# Load the Preprocessed Validation data\n",
    "valid_features, valid_labels = pickle.load(open('preprocess_validation.p', mode='rb'))"
   ]
  },
  {
   "cell_type": "markdown",
   "metadata": {},
   "source": [
    "## Build the network\n",
    "For the neural network, you'll build each layer into a function.  Most of the code you've seen has been outside of functions. To test your code more thoroughly, we require that you put each layer in a function.  This allows us to give you better feedback and test for simple mistakes using our unittests before you submit your project.\n",
    "\n",
    ">**Note:** If you're finding it hard to dedicate enough time for this course each week, we've provided a small shortcut to this part of the project. In the next couple of problems, you'll have the option to use classes from the [TensorFlow Layers](https://www.tensorflow.org/api_docs/python/tf/layers) or [TensorFlow Layers (contrib)](https://www.tensorflow.org/api_guides/python/contrib.layers) packages to build each layer, except the layers you build in the \"Convolutional and Max Pooling Layer\" section.  TF Layers is similar to Keras's and TFLearn's abstraction to layers, so it's easy to pickup.\n",
    "\n",
    ">However, if you would like to get the most out of this course, try to solve all the problems _without_ using anything from the TF Layers packages. You **can** still use classes from other packages that happen to have the same name as ones you find in TF Layers! For example, instead of using the TF Layers version of the `conv2d` class, [tf.layers.conv2d](https://www.tensorflow.org/api_docs/python/tf/layers/conv2d), you would want to use the TF Neural Network version of `conv2d`, [tf.nn.conv2d](https://www.tensorflow.org/api_docs/python/tf/nn/conv2d). \n",
    "\n",
    "Let's begin!\n",
    "\n",
    "### Input\n",
    "The neural network needs to read the image data, one-hot encoded labels, and dropout keep probability. Implement the following functions\n",
    "* Implement `neural_net_image_input`\n",
    " * Return a [TF Placeholder](https://www.tensorflow.org/api_docs/python/tf/placeholder)\n",
    " * Set the shape using `image_shape` with batch size set to `None`.\n",
    " * Name the TensorFlow placeholder \"x\" using the TensorFlow `name` parameter in the [TF Placeholder](https://www.tensorflow.org/api_docs/python/tf/placeholder).\n",
    "* Implement `neural_net_label_input`\n",
    " * Return a [TF Placeholder](https://www.tensorflow.org/api_docs/python/tf/placeholder)\n",
    " * Set the shape using `n_classes` with batch size set to `None`.\n",
    " * Name the TensorFlow placeholder \"y\" using the TensorFlow `name` parameter in the [TF Placeholder](https://www.tensorflow.org/api_docs/python/tf/placeholder).\n",
    "* Implement `neural_net_keep_prob_input`\n",
    " * Return a [TF Placeholder](https://www.tensorflow.org/api_docs/python/tf/placeholder) for dropout keep probability.\n",
    " * Name the TensorFlow placeholder \"keep_prob\" using the TensorFlow `name` parameter in the [TF Placeholder](https://www.tensorflow.org/api_docs/python/tf/placeholder).\n",
    "\n",
    "These names will be used at the end of the project to load your saved model.\n",
    "\n",
    "Note: `None` for shapes in TensorFlow allow for a dynamic size."
   ]
  },
  {
   "cell_type": "code",
   "execution_count": 8,
   "metadata": {},
   "outputs": [
    {
     "name": "stdout",
     "output_type": "stream",
     "text": [
      "Image Input Tests Passed.\n",
      "Label Input Tests Passed.\n",
      "Keep Prob Tests Passed.\n"
     ]
    }
   ],
   "source": [
    "import tensorflow as tf\n",
    "\n",
    "def neural_net_image_input(image_shape):\n",
    "    \"\"\"\n",
    "    Return a Tensor for a batch of image input\n",
    "    : image_shape: Shape of the images\n",
    "    : return: Tensor for image input.\n",
    "    \"\"\"\n",
    "    # TODO: Implement Function\n",
    "    return tf.placeholder(tf.float32, shape=[None, image_shape[0], image_shape[1], image_shape[2]], name='x')\n",
    "\n",
    "\n",
    "def neural_net_label_input(n_classes):\n",
    "    \"\"\"\n",
    "    Return a Tensor for a batch of label input\n",
    "    : n_classes: Number of classes\n",
    "    : return: Tensor for label input.\n",
    "    \"\"\"\n",
    "    # TODO: Implement Function\n",
    "    return tf.placeholder(tf.float32, shape=[None, n_classes], name='y')\n",
    "\n",
    "\n",
    "def neural_net_keep_prob_input():\n",
    "    \"\"\"\n",
    "    Return a Tensor for keep probability\n",
    "    : return: Tensor for keep probability.\n",
    "    \"\"\"\n",
    "    # TODO: Implement Function\n",
    "    return tf.placeholder(tf.float32, name='keep_prob')\n",
    "\n",
    "\n",
    "\"\"\"\n",
    "DON'T MODIFY ANYTHING IN THIS CELL THAT IS BELOW THIS LINE\n",
    "\"\"\"\n",
    "tf.reset_default_graph()\n",
    "tests.test_nn_image_inputs(neural_net_image_input)\n",
    "tests.test_nn_label_inputs(neural_net_label_input)\n",
    "tests.test_nn_keep_prob_inputs(neural_net_keep_prob_input)"
   ]
  },
  {
   "cell_type": "markdown",
   "metadata": {},
   "source": [
    "### Convolution and Max Pooling Layer\n",
    "Convolution layers have a lot of success with images. For this code cell, you should implement the function `conv2d_maxpool` to apply convolution then max pooling:\n",
    "* Create the weight and bias using `conv_ksize`, `conv_num_outputs` and the shape of `x_tensor`.\n",
    "* Apply a convolution to `x_tensor` using weight and `conv_strides`.\n",
    " * We recommend you use same padding, but you're welcome to use any padding.\n",
    "* Add bias\n",
    "* Add a nonlinear activation to the convolution.\n",
    "* Apply Max Pooling using `pool_ksize` and `pool_strides`.\n",
    " * We recommend you use same padding, but you're welcome to use any padding.\n",
    "\n",
    "**Note:** You **can't** use [TensorFlow Layers](https://www.tensorflow.org/api_docs/python/tf/layers) or [TensorFlow Layers (contrib)](https://www.tensorflow.org/api_guides/python/contrib.layers) for **this** layer, but you can still use TensorFlow's [Neural Network](https://www.tensorflow.org/api_docs/python/tf/nn) package. You may still use the shortcut option for all the **other** layers."
   ]
  },
  {
   "cell_type": "code",
   "execution_count": 9,
   "metadata": {},
   "outputs": [
    {
     "name": "stdout",
     "output_type": "stream",
     "text": [
      "Tests Passed\n"
     ]
    }
   ],
   "source": [
    "def conv2d_maxpool(x_tensor, conv_num_outputs, conv_ksize, conv_strides, pool_ksize, pool_strides):\n",
    "    \"\"\"\n",
    "    Apply convolution then max pooling to x_tensor\n",
    "    :param x_tensor: TensorFlow Tensor\n",
    "    :param conv_num_outputs: Number of outputs for the convolutional layer\n",
    "    :param conv_ksize: kernal size 2-D Tuple for the convolutional layer\n",
    "    :param conv_strides: Stride 2-D Tuple for convolution\n",
    "    :param pool_ksize: kernal size 2-D Tuple for pool\n",
    "    :param pool_strides: Stride 2-D Tuple for pool\n",
    "    : return: A tensor that represents convolution and max pooling of x_tensor\n",
    "    \"\"\"\n",
    "    # TODO: Implement Function\n",
    "    # Grab the shape for the input tensor\n",
    "    iheight = int(x_tensor.shape[1])\n",
    "    iwidth = int(x_tensor.shape[2])\n",
    "    idepth = int(x_tensor.shape[3])\n",
    "    # Grab the shape for the convolutional filter (kernel)\n",
    "    fheight = conv_ksize[0]\n",
    "    fwidth = conv_ksize[1]\n",
    "    # Define the padding, lets leave it in Same for now\n",
    "    padding = 'SAME'\n",
    "    # Create the strides vector for the convolution\n",
    "    conv_strides_vector = [1, conv_strides[0], conv_strides[1], 1]\n",
    "    # Create the pooling size vector\n",
    "    pool_ksize_vector = [1, pool_ksize[0], pool_ksize[1], 1]\n",
    "    # Create the pooling strides vector\n",
    "    pool_strides_vector = [1, pool_strides[0], pool_strides[1], 1]\n",
    "    # Initialize the weights of the filter to be from a truncated distribution\n",
    "    filter_weigths = tf.Variable(tf.truncated_normal(shape=[fheight, fwidth, idepth, conv_num_outputs], stddev=0.05))\n",
    "    # Add the bias\n",
    "    filter_bias = tf.Variable(tf.zeros(conv_num_outputs))\n",
    "    # Create the convolution layer\n",
    "    conv_layer = tf.nn.conv2d(x_tensor, filter_weigths, strides=conv_strides_vector, padding=padding)\n",
    "    # Add the bias\n",
    "    conv_layer = tf.nn.bias_add(conv_layer, filter_bias)\n",
    "    # Apply the non linearity\n",
    "    conv_layer = tf.nn.relu(conv_layer)\n",
    "    # Add The maxpooling layer\n",
    "    conv_layer = tf.nn.max_pool(conv_layer, ksize=pool_ksize_vector, strides=pool_strides_vector, padding=padding)\n",
    "    return conv_layer  \n",
    "\n",
    "\n",
    "\"\"\"\n",
    "DON'T MODIFY ANYTHING IN THIS CELL THAT IS BELOW THIS LINE\n",
    "\"\"\"\n",
    "tests.test_con_pool(conv2d_maxpool)"
   ]
  },
  {
   "cell_type": "markdown",
   "metadata": {},
   "source": [
    "### Flatten Layer\n",
    "Implement the `flatten` function to change the dimension of `x_tensor` from a 4-D tensor to a 2-D tensor.  The output should be the shape (*Batch Size*, *Flattened Image Size*). Shortcut option: you can use classes from the [TensorFlow Layers](https://www.tensorflow.org/api_docs/python/tf/layers) or [TensorFlow Layers (contrib)](https://www.tensorflow.org/api_guides/python/contrib.layers) packages for this layer. For more of a challenge, only use other TensorFlow packages."
   ]
  },
  {
   "cell_type": "code",
   "execution_count": 10,
   "metadata": {},
   "outputs": [
    {
     "name": "stdout",
     "output_type": "stream",
     "text": [
      "Tests Passed\n"
     ]
    }
   ],
   "source": [
    "def flatten(x_tensor):\n",
    "    \"\"\"\n",
    "    Flatten x_tensor to (Batch Size, Flattened Image Size)\n",
    "    : x_tensor: A tensor of size (Batch Size, ...), where ... are the image dimensions.\n",
    "    : return: A tensor of size (Batch Size, Flattened Image Size).\n",
    "    \"\"\"\n",
    "    # TODO: Implement Function\n",
    "    # Grab the shape for the input tensor\n",
    "    iheight = int(x_tensor.shape[1])\n",
    "    iwidth = int(x_tensor.shape[2])\n",
    "    idepth = int(x_tensor.shape[3])\n",
    "    # Calculate the size of the flattened image\n",
    "    flattened = iheight*iwidth*idepth\n",
    "    # reshape the 4d tensor to a 2d tensor\n",
    "    return tf.reshape(x_tensor,[-1, flattened])\n",
    "\n",
    "\n",
    "\"\"\"\n",
    "DON'T MODIFY ANYTHING IN THIS CELL THAT IS BELOW THIS LINE\n",
    "\"\"\"\n",
    "tests.test_flatten(flatten)"
   ]
  },
  {
   "cell_type": "markdown",
   "metadata": {},
   "source": [
    "### Fully-Connected Layer\n",
    "Implement the `fully_conn` function to apply a fully connected layer to `x_tensor` with the shape (*Batch Size*, *num_outputs*). Shortcut option: you can use classes from the [TensorFlow Layers](https://www.tensorflow.org/api_docs/python/tf/layers) or [TensorFlow Layers (contrib)](https://www.tensorflow.org/api_guides/python/contrib.layers) packages for this layer. For more of a challenge, only use other TensorFlow packages."
   ]
  },
  {
   "cell_type": "code",
   "execution_count": 11,
   "metadata": {},
   "outputs": [
    {
     "name": "stdout",
     "output_type": "stream",
     "text": [
      "Tests Passed\n"
     ]
    }
   ],
   "source": [
    "def fully_conn(x_tensor, num_outputs):\n",
    "    \"\"\"\n",
    "    Apply a fully connected layer to x_tensor using weight and bias\n",
    "    : x_tensor: A 2-D tensor where the first dimension is batch size.\n",
    "    : num_outputs: The number of output that the new tensor should be.\n",
    "    : return: A 2-D tensor where the second dimension is num_outputs.\n",
    "    \"\"\"\n",
    "    # TODO: Implement Function\n",
    "    # Get the width of the inputs\n",
    "    iwidth = int(x_tensor.get_shape()[1])\n",
    "    # Initialize the weights of the fully connected layer\n",
    "    layer_weigths = tf.Variable(tf.truncated_normal(shape=[iwidth, num_outputs], stddev=0.05))\n",
    "    #Initialize the biases to be zero for the fully connected layer\n",
    "    layer_bias = tf.Variable(tf.zeros(num_outputs))\n",
    "    # Define the layer's output\n",
    "    layer_out = tf.nn.relu(tf.add(tf.matmul(x_tensor, layer_weigths), layer_bias))\n",
    "    return layer_out\n",
    "\n",
    "\n",
    "\"\"\"\n",
    "DON'T MODIFY ANYTHING IN THIS CELL THAT IS BELOW THIS LINE\n",
    "\"\"\"\n",
    "tests.test_fully_conn(fully_conn)"
   ]
  },
  {
   "cell_type": "markdown",
   "metadata": {},
   "source": [
    "### Output Layer\n",
    "Implement the `output` function to apply a fully connected layer to `x_tensor` with the shape (*Batch Size*, *num_outputs*). Shortcut option: you can use classes from the [TensorFlow Layers](https://www.tensorflow.org/api_docs/python/tf/layers) or [TensorFlow Layers (contrib)](https://www.tensorflow.org/api_guides/python/contrib.layers) packages for this layer. For more of a challenge, only use other TensorFlow packages.\n",
    "\n",
    "**Note:** Activation, softmax, or cross entropy should **not** be applied to this."
   ]
  },
  {
   "cell_type": "code",
   "execution_count": 12,
   "metadata": {},
   "outputs": [
    {
     "name": "stdout",
     "output_type": "stream",
     "text": [
      "Tests Passed\n"
     ]
    }
   ],
   "source": [
    "def output(x_tensor, num_outputs):\n",
    "    \"\"\"\n",
    "    Apply a output layer to x_tensor using weight and bias\n",
    "    : x_tensor: A 2-D tensor where the first dimension is batch size.\n",
    "    : num_outputs: The number of output that the new tensor should be.\n",
    "    : return: A 2-D tensor where the second dimension is num_outputs.\n",
    "    \"\"\"\n",
    "    # TODO: Implement Function\n",
    "    # Get the width of the inputs\n",
    "    iwidth = int(x_tensor.get_shape()[1])\n",
    "    # Initialize the weights of the fully connected layer\n",
    "    layer_weigths = tf.Variable(tf.truncated_normal(shape=[iwidth, num_outputs], stddev=0.05))\n",
    "    #Initialize the biases to be zero for the fully connected layer\n",
    "    layer_bias = tf.Variable(tf.zeros(num_outputs))\n",
    "    # Define the layer's output\n",
    "    layer_output = tf.add(tf.matmul(x_tensor, layer_weigths), layer_bias)\n",
    "    return layer_output\n",
    "\n",
    "\n",
    "\"\"\"\n",
    "DON'T MODIFY ANYTHING IN THIS CELL THAT IS BELOW THIS LINE\n",
    "\"\"\"\n",
    "tests.test_output(output)"
   ]
  },
  {
   "cell_type": "markdown",
   "metadata": {},
   "source": [
    "### Create Convolutional Model\n",
    "Implement the function `conv_net` to create a convolutional neural network model. The function takes in a batch of images, `x`, and outputs logits.  Use the layers you created above to create this model:\n",
    "\n",
    "* Apply 1, 2, or 3 Convolution and Max Pool layers\n",
    "* Apply a Flatten Layer\n",
    "* Apply 1, 2, or 3 Fully Connected Layers\n",
    "* Apply an Output Layer\n",
    "* Return the output\n",
    "* Apply [TensorFlow's Dropout](https://www.tensorflow.org/api_docs/python/tf/nn/dropout) to one or more layers in the model using `keep_prob`. "
   ]
  },
  {
   "cell_type": "code",
   "execution_count": 13,
   "metadata": {},
   "outputs": [
    {
     "name": "stdout",
     "output_type": "stream",
     "text": [
      "Neural Network Built!\n"
     ]
    }
   ],
   "source": [
    "def conv_net(x, keep_prob):\n",
    "    \"\"\"\n",
    "    Create a convolutional neural network model\n",
    "    : x: Placeholder tensor that holds image data.\n",
    "    : keep_prob: Placeholder tensor that hold dropout keep probability.\n",
    "    : return: Tensor that represents logits\n",
    "    \"\"\"\n",
    "    # TODO: Apply 1, 2, or 3 Convolution and Max Pool layers\n",
    "    #    Play around with different number of outputs, kernel size and stride\n",
    "    # Function Definition from Above:\n",
    "    #    conv2d_maxpool(x_tensor, conv_num_outputs, conv_ksize, conv_strides, pool_ksize, pool_strides)\n",
    "    # Define parameters for the first convolutional layer\n",
    "    first_conv_output = 32\n",
    "    first_conv_ksize = [4, 4]\n",
    "    first_conv_strides = [1, 1]\n",
    "    first_pool_ksize=[3, 3]\n",
    "    first_pool_strides = [2, 2]\n",
    "    \n",
    "    # Define parameters for the second convolutional layer\n",
    "    second_conv_output = 16\n",
    "    second_conv_ksize = [4, 4]\n",
    "    second_conv_strides = [1, 1]\n",
    "    second_pool_ksize=[3, 3]\n",
    "    second_pool_strides = [2, 2]\n",
    "    \n",
    "    # Parameters for the fully connected layers\n",
    "    fconnected_size_1 = 128\n",
    "    fconnected_size_2 = 64\n",
    "    \n",
    "    num_outputs = 10\n",
    "    \n",
    "    # First Layer\n",
    "    first_conv_layer = conv2d_maxpool(x, \n",
    "                                      first_conv_output, \n",
    "                                      first_conv_ksize, \n",
    "                                      first_conv_strides, \n",
    "                                      first_pool_ksize, \n",
    "                                      first_pool_strides)\n",
    "    # Second Layer\n",
    "    second_conv_layer = conv2d_maxpool(first_conv_layer, \n",
    "                                      second_conv_output, \n",
    "                                      second_conv_ksize, \n",
    "                                      second_conv_strides, \n",
    "                                      second_pool_ksize, \n",
    "                                      second_pool_strides)\n",
    "\n",
    "    # TODO: Apply a Flatten Layer\n",
    "    # Function Definition from Above:\n",
    "    #   flatten(x_tensor)\n",
    "    # Prepare for flattening\n",
    "    last_conv_layer = second_conv_layer\n",
    "    # Do flattening\n",
    "    flattened_layer = flatten(last_conv_layer)\n",
    "    \n",
    "\n",
    "    # TODO: Apply 1, 2, or 3 Fully Connected Layers\n",
    "    #    Play around with different number of outputs\n",
    "    # Function Definition from Above:\n",
    "    #   fully_conn(x_tensor, num_outputs)\n",
    "    # First fully connected layer\n",
    "    fully_connected_layer_1 = fully_conn(flattened_layer, fconnected_size_1)\n",
    "    # Second fully connected layer\n",
    "    fully_connected_layer_2 = fully_conn(fully_connected_layer_1, fconnected_size_2)\n",
    "    \n",
    "    \n",
    "    # TODO: Apply an Output Layer\n",
    "    #    Set this to the number of classes\n",
    "    # Function Definition from Above:\n",
    "    #   output(x_tensor, num_outputs)\n",
    "    # Ouput layer\n",
    "    last_output = output(fully_connected_layer_1, num_outputs)\n",
    "    \n",
    "    # TODO: return output\n",
    "    return last_output\n",
    "\n",
    "\n",
    "\"\"\"\n",
    "DON'T MODIFY ANYTHING IN THIS CELL THAT IS BELOW THIS LINE\n",
    "\"\"\"\n",
    "\n",
    "##############################\n",
    "## Build the Neural Network ##\n",
    "##############################\n",
    "\n",
    "# Remove previous weights, bias, inputs, etc..\n",
    "tf.reset_default_graph()\n",
    "\n",
    "# Inputs\n",
    "x = neural_net_image_input((32, 32, 3))\n",
    "y = neural_net_label_input(10)\n",
    "keep_prob = neural_net_keep_prob_input()\n",
    "\n",
    "# Model\n",
    "logits = conv_net(x, keep_prob)\n",
    "\n",
    "# Name logits Tensor, so that is can be loaded from disk after training\n",
    "logits = tf.identity(logits, name='logits')\n",
    "\n",
    "# Loss and Optimizer\n",
    "cost = tf.reduce_mean(tf.nn.softmax_cross_entropy_with_logits(logits=logits, labels=y))\n",
    "optimizer = tf.train.AdamOptimizer().minimize(cost)\n",
    "\n",
    "# Accuracy\n",
    "correct_pred = tf.equal(tf.argmax(logits, 1), tf.argmax(y, 1))\n",
    "accuracy = tf.reduce_mean(tf.cast(correct_pred, tf.float32), name='accuracy')\n",
    "\n",
    "tests.test_conv_net(conv_net)"
   ]
  },
  {
   "cell_type": "markdown",
   "metadata": {},
   "source": [
    "## Train the Neural Network\n",
    "### Single Optimization\n",
    "Implement the function `train_neural_network` to do a single optimization.  The optimization should use `optimizer` to optimize in `session` with a `feed_dict` of the following:\n",
    "* `x` for image input\n",
    "* `y` for labels\n",
    "* `keep_prob` for keep probability for dropout\n",
    "\n",
    "This function will be called for each batch, so `tf.global_variables_initializer()` has already been called.\n",
    "\n",
    "Note: Nothing needs to be returned. This function is only optimizing the neural network."
   ]
  },
  {
   "cell_type": "code",
   "execution_count": 14,
   "metadata": {},
   "outputs": [
    {
     "name": "stdout",
     "output_type": "stream",
     "text": [
      "Tests Passed\n"
     ]
    }
   ],
   "source": [
    "def train_neural_network(session, optimizer, keep_probability, feature_batch, label_batch):\n",
    "    \"\"\"\n",
    "    Optimize the session on a batch of images and labels\n",
    "    : session: Current TensorFlow session\n",
    "    : optimizer: TensorFlow optimizer function\n",
    "    : keep_probability: keep probability\n",
    "    : feature_batch: Batch of Numpy image data\n",
    "    : label_batch: Batch of Numpy label data\n",
    "    \"\"\"\n",
    "    # TODO: Implement Function\n",
    "    # Create the feeding dictionary for trainning\n",
    "    f_dict = {x: feature_batch, y: label_batch, keep_prob: keep_probability}\n",
    "    session.run(optimizer, feed_dict=f_dict)\n",
    "\n",
    "\n",
    "\"\"\"\n",
    "DON'T MODIFY ANYTHING IN THIS CELL THAT IS BELOW THIS LINE\n",
    "\"\"\"\n",
    "tests.test_train_nn(train_neural_network)"
   ]
  },
  {
   "cell_type": "markdown",
   "metadata": {},
   "source": [
    "### Show Stats\n",
    "Implement the function `print_stats` to print loss and validation accuracy.  Use the global variables `valid_features` and `valid_labels` to calculate validation accuracy.  Use a keep probability of `1.0` to calculate the loss and validation accuracy."
   ]
  },
  {
   "cell_type": "code",
   "execution_count": 15,
   "metadata": {
    "collapsed": true
   },
   "outputs": [],
   "source": [
    "def print_stats(session, feature_batch, label_batch, cost, accuracy):\n",
    "    \"\"\"\n",
    "    Print information about loss and validation accuracy\n",
    "    : session: Current TensorFlow session\n",
    "    : feature_batch: Batch of Numpy image data\n",
    "    : label_batch: Batch of Numpy label data\n",
    "    : cost: TensorFlow cost function\n",
    "    : accuracy: TensorFlow accuracy function\n",
    "    \"\"\"\n",
    "    # TODO: Implement Function\n",
    "    pt_loss = session.run(cost,\n",
    "                       feed_dict={\n",
    "                           x: feature_batch, \n",
    "                           y: label_batch,\n",
    "                           keep_prob: 1.0})\n",
    "    \n",
    "    pt_accuracy= session.run(accuracy,\n",
    "                             feed_dict={\n",
    "                                 x: feature_batch, \n",
    "                                 y: label_batch,\n",
    "                                 keep_prob: 1.0})\n",
    "    \n",
    "    \n",
    "    pv_loss = session.run(cost,\n",
    "                          feed_dict={\n",
    "                              x: valid_features,\n",
    "                              y: valid_labels,\n",
    "                              keep_prob: 1.0})\n",
    "    \n",
    "    pv_accuracy = session.run(accuracy,\n",
    "                       feed_dict={\n",
    "                           x: valid_features, \n",
    "                           y: valid_labels,\n",
    "                           keep_prob: 1.0})\n",
    "    print('Tr Loss/Acc: {:0.4f}/{:0.4f} and Val Loss/Acc {:0.4f}/{:0.4f}'.format(pt_loss, pt_accuracy, pv_loss, pv_accuracy))"
   ]
  },
  {
   "cell_type": "markdown",
   "metadata": {},
   "source": [
    "### Hyperparameters\n",
    "Tune the following parameters:\n",
    "* Set `epochs` to the number of iterations until the network stops learning or start overfitting\n",
    "* Set `batch_size` to the highest number that your machine has memory for.  Most people set them to common sizes of memory:\n",
    " * 64\n",
    " * 128\n",
    " * 256\n",
    " * ...\n",
    "* Set `keep_probability` to the probability of keeping a node using dropout"
   ]
  },
  {
   "cell_type": "code",
   "execution_count": 16,
   "metadata": {
    "collapsed": true
   },
   "outputs": [],
   "source": [
    "# TODO: Tune Parameters\n",
    "epochs = 35\n",
    "batch_size = 2048\n",
    "keep_probability = 0.55"
   ]
  },
  {
   "cell_type": "markdown",
   "metadata": {},
   "source": [
    "### Train on a Single CIFAR-10 Batch\n",
    "Instead of training the neural network on all the CIFAR-10 batches of data, let's use a single batch. This should save time while you iterate on the model to get a better accuracy.  Once the final validation accuracy is 50% or greater, run the model on all the data in the next section."
   ]
  },
  {
   "cell_type": "code",
   "execution_count": 18,
   "metadata": {},
   "outputs": [
    {
     "name": "stdout",
     "output_type": "stream",
     "text": [
      "Checking the Training on a Single Batch...\n",
      "Epoch  1, CIFAR-10 Batch 1:  Tr Loss/Acc: 2.2793/0.1683 and Val Loss/Acc 2.2810/0.1500\n",
      "Epoch  2, CIFAR-10 Batch 1:  Tr Loss/Acc: 2.2227/0.2698 and Val Loss/Acc 2.2279/0.2462\n",
      "Epoch  3, CIFAR-10 Batch 1:  Tr Loss/Acc: 2.0921/0.3032 and Val Loss/Acc 2.0997/0.2614\n",
      "Epoch  4, CIFAR-10 Batch 1:  Tr Loss/Acc: 1.9418/0.3329 and Val Loss/Acc 1.9542/0.2820\n",
      "Epoch  5, CIFAR-10 Batch 1:  Tr Loss/Acc: 1.8525/0.3441 and Val Loss/Acc 1.8628/0.3202\n",
      "Epoch  6, CIFAR-10 Batch 1:  Tr Loss/Acc: 1.7863/0.3713 and Val Loss/Acc 1.7882/0.3662\n",
      "Epoch  7, CIFAR-10 Batch 1:  Tr Loss/Acc: 1.7385/0.3874 and Val Loss/Acc 1.7428/0.3772\n",
      "Epoch  8, CIFAR-10 Batch 1:  Tr Loss/Acc: 1.6953/0.3960 and Val Loss/Acc 1.7156/0.3838\n",
      "Epoch  9, CIFAR-10 Batch 1:  Tr Loss/Acc: 1.6476/0.4196 and Val Loss/Acc 1.6662/0.4084\n",
      "Epoch 10, CIFAR-10 Batch 1:  Tr Loss/Acc: 1.6109/0.4257 and Val Loss/Acc 1.6365/0.4140\n",
      "Epoch 11, CIFAR-10 Batch 1:  Tr Loss/Acc: 1.5856/0.4319 and Val Loss/Acc 1.6200/0.4176\n",
      "Epoch 12, CIFAR-10 Batch 1:  Tr Loss/Acc: 1.5471/0.4443 and Val Loss/Acc 1.5828/0.4322\n",
      "Epoch 13, CIFAR-10 Batch 1:  Tr Loss/Acc: 1.5206/0.4629 and Val Loss/Acc 1.5630/0.4400\n",
      "Epoch 14, CIFAR-10 Batch 1:  Tr Loss/Acc: 1.5027/0.4641 and Val Loss/Acc 1.5528/0.4424\n",
      "Epoch 15, CIFAR-10 Batch 1:  Tr Loss/Acc: 1.4706/0.4765 and Val Loss/Acc 1.5280/0.4540\n",
      "Epoch 16, CIFAR-10 Batch 1:  Tr Loss/Acc: 1.4495/0.4876 and Val Loss/Acc 1.5155/0.4612\n",
      "Epoch 17, CIFAR-10 Batch 1:  Tr Loss/Acc: 1.4349/0.4988 and Val Loss/Acc 1.5078/0.4614\n",
      "Epoch 18, CIFAR-10 Batch 1:  Tr Loss/Acc: 1.4085/0.5012 and Val Loss/Acc 1.4909/0.4692\n",
      "Epoch 19, CIFAR-10 Batch 1:  Tr Loss/Acc: 1.3887/0.5161 and Val Loss/Acc 1.4801/0.4712\n",
      "Epoch 20, CIFAR-10 Batch 1:  Tr Loss/Acc: 1.3666/0.5297 and Val Loss/Acc 1.4646/0.4778\n",
      "Epoch 21, CIFAR-10 Batch 1:  Tr Loss/Acc: 1.3601/0.5210 and Val Loss/Acc 1.4656/0.4802\n",
      "Epoch 22, CIFAR-10 Batch 1:  Tr Loss/Acc: 1.3315/0.5347 and Val Loss/Acc 1.4444/0.4848\n",
      "Epoch 23, CIFAR-10 Batch 1:  Tr Loss/Acc: 1.3121/0.5520 and Val Loss/Acc 1.4323/0.4892\n",
      "Epoch 24, CIFAR-10 Batch 1:  Tr Loss/Acc: 1.2944/0.5582 and Val Loss/Acc 1.4223/0.4936\n",
      "Epoch 25, CIFAR-10 Batch 1:  Tr Loss/Acc: 1.2845/0.5619 and Val Loss/Acc 1.4182/0.5012\n",
      "Epoch 26, CIFAR-10 Batch 1:  Tr Loss/Acc: 1.2638/0.5705 and Val Loss/Acc 1.4044/0.5050\n",
      "Epoch 27, CIFAR-10 Batch 1:  Tr Loss/Acc: 1.2478/0.5817 and Val Loss/Acc 1.3972/0.5090\n",
      "Epoch 28, CIFAR-10 Batch 1:  Tr Loss/Acc: 1.2284/0.5891 and Val Loss/Acc 1.3857/0.5084\n",
      "Epoch 29, CIFAR-10 Batch 1:  Tr Loss/Acc: 1.2184/0.5916 and Val Loss/Acc 1.3786/0.5114\n",
      "Epoch 30, CIFAR-10 Batch 1:  Tr Loss/Acc: 1.2031/0.5965 and Val Loss/Acc 1.3686/0.5198\n",
      "Epoch 31, CIFAR-10 Batch 1:  Tr Loss/Acc: 1.1850/0.6015 and Val Loss/Acc 1.3598/0.5206\n",
      "Epoch 32, CIFAR-10 Batch 1:  Tr Loss/Acc: 1.1721/0.6139 and Val Loss/Acc 1.3554/0.5234\n",
      "Epoch 33, CIFAR-10 Batch 1:  Tr Loss/Acc: 1.1589/0.6225 and Val Loss/Acc 1.3501/0.5242\n",
      "Epoch 34, CIFAR-10 Batch 1:  Tr Loss/Acc: 1.1455/0.6238 and Val Loss/Acc 1.3437/0.5282\n",
      "Epoch 35, CIFAR-10 Batch 1:  Tr Loss/Acc: 1.1321/0.6287 and Val Loss/Acc 1.3357/0.5304\n"
     ]
    }
   ],
   "source": [
    "\"\"\"\n",
    "DON'T MODIFY ANYTHING IN THIS CELL\n",
    "\"\"\"\n",
    "print('Checking the Training on a Single Batch...')\n",
    "with tf.Session() as sess:\n",
    "    # Initializing the variables\n",
    "    sess.run(tf.global_variables_initializer())\n",
    "    \n",
    "    # Training cycle\n",
    "    for epoch in range(epochs):\n",
    "        batch_i = 1\n",
    "        for batch_features, batch_labels in helper.load_preprocess_training_batch(batch_i, batch_size):\n",
    "            train_neural_network(sess, optimizer, keep_probability, batch_features, batch_labels)\n",
    "        print('Epoch {:>2}, CIFAR-10 Batch {}:  '.format(epoch + 1, batch_i), end='')\n",
    "        print_stats(sess, batch_features, batch_labels, cost, accuracy)"
   ]
  },
  {
   "cell_type": "markdown",
   "metadata": {},
   "source": [
    "### Fully Train the Model\n",
    "Now that you got a good accuracy with a single CIFAR-10 batch, try it with all five batches."
   ]
  },
  {
   "cell_type": "code",
   "execution_count": 19,
   "metadata": {},
   "outputs": [
    {
     "name": "stdout",
     "output_type": "stream",
     "text": [
      "Training...\n",
      "Epoch  1, CIFAR-10 Batch 1:  Tr Loss/Acc: 2.2618/0.1535 and Val Loss/Acc 2.2609/0.1316\n",
      "Epoch  1, CIFAR-10 Batch 2:  Tr Loss/Acc: 2.1538/0.1807 and Val Loss/Acc 2.1525/0.1746\n",
      "Epoch  1, CIFAR-10 Batch 3:  Tr Loss/Acc: 2.0171/0.2587 and Val Loss/Acc 2.0345/0.2690\n",
      "Epoch  1, CIFAR-10 Batch 4:  Tr Loss/Acc: 1.9495/0.3193 and Val Loss/Acc 1.9763/0.2910\n",
      "Epoch  1, CIFAR-10 Batch 5:  Tr Loss/Acc: 1.9251/0.3045 and Val Loss/Acc 1.9410/0.3064\n",
      "Epoch  2, CIFAR-10 Batch 1:  Tr Loss/Acc: 1.9072/0.3366 and Val Loss/Acc 1.8778/0.3366\n",
      "Epoch  2, CIFAR-10 Batch 2:  Tr Loss/Acc: 1.8355/0.3441 and Val Loss/Acc 1.8399/0.3552\n",
      "Epoch  2, CIFAR-10 Batch 3:  Tr Loss/Acc: 1.7841/0.3688 and Val Loss/Acc 1.8067/0.3644\n",
      "Epoch  2, CIFAR-10 Batch 4:  Tr Loss/Acc: 1.7419/0.3750 and Val Loss/Acc 1.7611/0.3792\n",
      "Epoch  2, CIFAR-10 Batch 5:  Tr Loss/Acc: 1.7378/0.3812 and Val Loss/Acc 1.7353/0.3844\n",
      "Epoch  3, CIFAR-10 Batch 1:  Tr Loss/Acc: 1.7117/0.4084 and Val Loss/Acc 1.6935/0.3946\n",
      "Epoch  3, CIFAR-10 Batch 2:  Tr Loss/Acc: 1.6629/0.4047 and Val Loss/Acc 1.6611/0.4050\n",
      "Epoch  3, CIFAR-10 Batch 3:  Tr Loss/Acc: 1.6097/0.4493 and Val Loss/Acc 1.6406/0.4104\n",
      "Epoch  3, CIFAR-10 Batch 4:  Tr Loss/Acc: 1.5824/0.4084 and Val Loss/Acc 1.6091/0.4234\n",
      "Epoch  3, CIFAR-10 Batch 5:  Tr Loss/Acc: 1.6040/0.4134 and Val Loss/Acc 1.6049/0.4178\n",
      "Epoch  4, CIFAR-10 Batch 1:  Tr Loss/Acc: 1.5834/0.4517 and Val Loss/Acc 1.5785/0.4340\n",
      "Epoch  4, CIFAR-10 Batch 2:  Tr Loss/Acc: 1.5675/0.4295 and Val Loss/Acc 1.5614/0.4294\n",
      "Epoch  4, CIFAR-10 Batch 3:  Tr Loss/Acc: 1.5144/0.4604 and Val Loss/Acc 1.5496/0.4356\n",
      "Epoch  4, CIFAR-10 Batch 4:  Tr Loss/Acc: 1.4943/0.4493 and Val Loss/Acc 1.5216/0.4546\n",
      "Epoch  4, CIFAR-10 Batch 5:  Tr Loss/Acc: 1.5304/0.4864 and Val Loss/Acc 1.5402/0.4402\n",
      "Epoch  5, CIFAR-10 Batch 1:  Tr Loss/Acc: 1.5233/0.4592 and Val Loss/Acc 1.5250/0.4452\n",
      "Epoch  5, CIFAR-10 Batch 2:  Tr Loss/Acc: 1.5072/0.4381 and Val Loss/Acc 1.5068/0.4538\n",
      "Epoch  5, CIFAR-10 Batch 3:  Tr Loss/Acc: 1.4733/0.4765 and Val Loss/Acc 1.5154/0.4484\n",
      "Epoch  5, CIFAR-10 Batch 4:  Tr Loss/Acc: 1.4583/0.4715 and Val Loss/Acc 1.4836/0.4678\n",
      "Epoch  5, CIFAR-10 Batch 5:  Tr Loss/Acc: 1.4600/0.5198 and Val Loss/Acc 1.4654/0.4698\n",
      "Epoch  6, CIFAR-10 Batch 1:  Tr Loss/Acc: 1.4540/0.4728 and Val Loss/Acc 1.4605/0.4714\n",
      "Epoch  6, CIFAR-10 Batch 2:  Tr Loss/Acc: 1.4436/0.4703 and Val Loss/Acc 1.4493/0.4812\n",
      "Epoch  6, CIFAR-10 Batch 3:  Tr Loss/Acc: 1.4267/0.4975 and Val Loss/Acc 1.4689/0.4716\n",
      "Epoch  6, CIFAR-10 Batch 4:  Tr Loss/Acc: 1.4080/0.4827 and Val Loss/Acc 1.4406/0.4806\n",
      "Epoch  6, CIFAR-10 Batch 5:  Tr Loss/Acc: 1.4093/0.5322 and Val Loss/Acc 1.4263/0.4856\n",
      "Epoch  7, CIFAR-10 Batch 1:  Tr Loss/Acc: 1.4119/0.4864 and Val Loss/Acc 1.4254/0.4856\n",
      "Epoch  7, CIFAR-10 Batch 2:  Tr Loss/Acc: 1.4043/0.4901 and Val Loss/Acc 1.4212/0.4912\n",
      "Epoch  7, CIFAR-10 Batch 3:  Tr Loss/Acc: 1.3875/0.5000 and Val Loss/Acc 1.4339/0.4816\n",
      "Epoch  7, CIFAR-10 Batch 4:  Tr Loss/Acc: 1.3504/0.5000 and Val Loss/Acc 1.3872/0.5046\n",
      "Epoch  7, CIFAR-10 Batch 5:  Tr Loss/Acc: 1.3773/0.5446 and Val Loss/Acc 1.4001/0.4982\n",
      "Epoch  8, CIFAR-10 Batch 1:  Tr Loss/Acc: 1.3765/0.5000 and Val Loss/Acc 1.3970/0.4986\n",
      "Epoch  8, CIFAR-10 Batch 2:  Tr Loss/Acc: 1.3560/0.5099 and Val Loss/Acc 1.3725/0.5082\n",
      "Epoch  8, CIFAR-10 Batch 3:  Tr Loss/Acc: 1.3215/0.5322 and Val Loss/Acc 1.3763/0.5084\n",
      "Epoch  8, CIFAR-10 Batch 4:  Tr Loss/Acc: 1.3151/0.5111 and Val Loss/Acc 1.3562/0.5168\n",
      "Epoch  8, CIFAR-10 Batch 5:  Tr Loss/Acc: 1.3338/0.5483 and Val Loss/Acc 1.3610/0.5114\n",
      "Epoch  9, CIFAR-10 Batch 1:  Tr Loss/Acc: 1.3437/0.5124 and Val Loss/Acc 1.3717/0.5136\n",
      "Epoch  9, CIFAR-10 Batch 2:  Tr Loss/Acc: 1.3370/0.5124 and Val Loss/Acc 1.3664/0.5100\n",
      "Epoch  9, CIFAR-10 Batch 3:  Tr Loss/Acc: 1.3146/0.5334 and Val Loss/Acc 1.3788/0.5080\n",
      "Epoch  9, CIFAR-10 Batch 4:  Tr Loss/Acc: 1.2820/0.5347 and Val Loss/Acc 1.3264/0.5254\n",
      "Epoch  9, CIFAR-10 Batch 5:  Tr Loss/Acc: 1.3227/0.5495 and Val Loss/Acc 1.3553/0.5174\n",
      "Epoch 10, CIFAR-10 Batch 1:  Tr Loss/Acc: 1.3041/0.5334 and Val Loss/Acc 1.3293/0.5276\n",
      "Epoch 10, CIFAR-10 Batch 2:  Tr Loss/Acc: 1.3093/0.5334 and Val Loss/Acc 1.3339/0.5216\n",
      "Epoch 10, CIFAR-10 Batch 3:  Tr Loss/Acc: 1.2620/0.5495 and Val Loss/Acc 1.3314/0.5288\n",
      "Epoch 10, CIFAR-10 Batch 4:  Tr Loss/Acc: 1.2618/0.5446 and Val Loss/Acc 1.3115/0.5314\n",
      "Epoch 10, CIFAR-10 Batch 5:  Tr Loss/Acc: 1.2846/0.5668 and Val Loss/Acc 1.3190/0.5306\n",
      "Epoch 11, CIFAR-10 Batch 1:  Tr Loss/Acc: 1.2775/0.5507 and Val Loss/Acc 1.3096/0.5366\n",
      "Epoch 11, CIFAR-10 Batch 2:  Tr Loss/Acc: 1.2850/0.5334 and Val Loss/Acc 1.3186/0.5270\n",
      "Epoch 11, CIFAR-10 Batch 3:  Tr Loss/Acc: 1.2209/0.5705 and Val Loss/Acc 1.2954/0.5426\n",
      "Epoch 11, CIFAR-10 Batch 4:  Tr Loss/Acc: 1.2418/0.5545 and Val Loss/Acc 1.2974/0.5384\n",
      "Epoch 11, CIFAR-10 Batch 5:  Tr Loss/Acc: 1.2497/0.5842 and Val Loss/Acc 1.2856/0.5454\n",
      "Epoch 12, CIFAR-10 Batch 1:  Tr Loss/Acc: 1.2429/0.5693 and Val Loss/Acc 1.2765/0.5488\n",
      "Epoch 12, CIFAR-10 Batch 2:  Tr Loss/Acc: 1.2550/0.5384 and Val Loss/Acc 1.2927/0.5384\n",
      "Epoch 12, CIFAR-10 Batch 3:  Tr Loss/Acc: 1.1991/0.5718 and Val Loss/Acc 1.2795/0.5482\n",
      "Epoch 12, CIFAR-10 Batch 4:  Tr Loss/Acc: 1.2120/0.5743 and Val Loss/Acc 1.2745/0.5494\n",
      "Epoch 12, CIFAR-10 Batch 5:  Tr Loss/Acc: 1.2328/0.5866 and Val Loss/Acc 1.2732/0.5516\n",
      "Epoch 13, CIFAR-10 Batch 1:  Tr Loss/Acc: 1.2205/0.5792 and Val Loss/Acc 1.2565/0.5554\n",
      "Epoch 13, CIFAR-10 Batch 2:  Tr Loss/Acc: 1.2330/0.5495 and Val Loss/Acc 1.2759/0.5464\n",
      "Epoch 13, CIFAR-10 Batch 3:  Tr Loss/Acc: 1.1770/0.5866 and Val Loss/Acc 1.2622/0.5548\n",
      "Epoch 13, CIFAR-10 Batch 4:  Tr Loss/Acc: 1.1894/0.5829 and Val Loss/Acc 1.2588/0.5544\n",
      "Epoch 13, CIFAR-10 Batch 5:  Tr Loss/Acc: 1.2142/0.5903 and Val Loss/Acc 1.2594/0.5582\n",
      "Epoch 14, CIFAR-10 Batch 1:  Tr Loss/Acc: 1.1955/0.5891 and Val Loss/Acc 1.2394/0.5626\n",
      "Epoch 14, CIFAR-10 Batch 2:  Tr Loss/Acc: 1.2132/0.5644 and Val Loss/Acc 1.2621/0.5490\n",
      "Epoch 14, CIFAR-10 Batch 3:  Tr Loss/Acc: 1.1531/0.5879 and Val Loss/Acc 1.2435/0.5602\n",
      "Epoch 14, CIFAR-10 Batch 4:  Tr Loss/Acc: 1.1727/0.5879 and Val Loss/Acc 1.2481/0.5592\n",
      "Epoch 14, CIFAR-10 Batch 5:  Tr Loss/Acc: 1.1934/0.6040 and Val Loss/Acc 1.2449/0.5650\n",
      "Epoch 15, CIFAR-10 Batch 1:  Tr Loss/Acc: 1.1736/0.5941 and Val Loss/Acc 1.2243/0.5688\n",
      "Epoch 15, CIFAR-10 Batch 2:  Tr Loss/Acc: 1.1925/0.5693 and Val Loss/Acc 1.2489/0.5548\n",
      "Epoch 15, CIFAR-10 Batch 3:  Tr Loss/Acc: 1.1288/0.5941 and Val Loss/Acc 1.2231/0.5662\n",
      "Epoch 15, CIFAR-10 Batch 4:  Tr Loss/Acc: 1.1520/0.5953 and Val Loss/Acc 1.2332/0.5642\n",
      "Epoch 15, CIFAR-10 Batch 5:  Tr Loss/Acc: 1.1753/0.6089 and Val Loss/Acc 1.2323/0.5680\n",
      "Epoch 16, CIFAR-10 Batch 1:  Tr Loss/Acc: 1.1539/0.6002 and Val Loss/Acc 1.2124/0.5764\n",
      "Epoch 16, CIFAR-10 Batch 2:  Tr Loss/Acc: 1.1715/0.5804 and Val Loss/Acc 1.2332/0.5604\n",
      "Epoch 16, CIFAR-10 Batch 3:  Tr Loss/Acc: 1.1088/0.6064 and Val Loss/Acc 1.2084/0.5718\n",
      "Epoch 16, CIFAR-10 Batch 4:  Tr Loss/Acc: 1.1270/0.6052 and Val Loss/Acc 1.2133/0.5680\n",
      "Epoch 16, CIFAR-10 Batch 5:  Tr Loss/Acc: 1.1586/0.6139 and Val Loss/Acc 1.2210/0.5734\n",
      "Epoch 17, CIFAR-10 Batch 1:  Tr Loss/Acc: 1.1377/0.5990 and Val Loss/Acc 1.2040/0.5776\n",
      "Epoch 17, CIFAR-10 Batch 2:  Tr Loss/Acc: 1.1467/0.5903 and Val Loss/Acc 1.2101/0.5682\n",
      "Epoch 17, CIFAR-10 Batch 3:  Tr Loss/Acc: 1.0912/0.6114 and Val Loss/Acc 1.1971/0.5762\n",
      "Epoch 17, CIFAR-10 Batch 4:  Tr Loss/Acc: 1.1051/0.6126 and Val Loss/Acc 1.1965/0.5756\n",
      "Epoch 17, CIFAR-10 Batch 5:  Tr Loss/Acc: 1.1401/0.6200 and Val Loss/Acc 1.2081/0.5780\n",
      "Epoch 18, CIFAR-10 Batch 1:  Tr Loss/Acc: 1.1213/0.6114 and Val Loss/Acc 1.1914/0.5800\n",
      "Epoch 18, CIFAR-10 Batch 2:  Tr Loss/Acc: 1.1239/0.6002 and Val Loss/Acc 1.1924/0.5726\n",
      "Epoch 18, CIFAR-10 Batch 3:  Tr Loss/Acc: 1.0744/0.6114 and Val Loss/Acc 1.1859/0.5798\n",
      "Epoch 18, CIFAR-10 Batch 4:  Tr Loss/Acc: 1.0855/0.6213 and Val Loss/Acc 1.1830/0.5806\n",
      "Epoch 18, CIFAR-10 Batch 5:  Tr Loss/Acc: 1.1222/0.6300 and Val Loss/Acc 1.1965/0.5802\n",
      "Epoch 19, CIFAR-10 Batch 1:  Tr Loss/Acc: 1.1042/0.6163 and Val Loss/Acc 1.1766/0.5848\n",
      "Epoch 19, CIFAR-10 Batch 2:  Tr Loss/Acc: 1.1048/0.6040 and Val Loss/Acc 1.1811/0.5742\n",
      "Epoch 19, CIFAR-10 Batch 3:  Tr Loss/Acc: 1.0578/0.6163 and Val Loss/Acc 1.1741/0.5850\n",
      "Epoch 19, CIFAR-10 Batch 4:  Tr Loss/Acc: 1.0696/0.6300 and Val Loss/Acc 1.1718/0.5842\n"
     ]
    },
    {
     "name": "stdout",
     "output_type": "stream",
     "text": [
      "Epoch 19, CIFAR-10 Batch 5:  Tr Loss/Acc: 1.1035/0.6386 and Val Loss/Acc 1.1836/0.5848\n",
      "Epoch 20, CIFAR-10 Batch 1:  Tr Loss/Acc: 1.0886/0.6262 and Val Loss/Acc 1.1632/0.5878\n",
      "Epoch 20, CIFAR-10 Batch 2:  Tr Loss/Acc: 1.0876/0.6126 and Val Loss/Acc 1.1712/0.5780\n",
      "Epoch 20, CIFAR-10 Batch 3:  Tr Loss/Acc: 1.0422/0.6225 and Val Loss/Acc 1.1623/0.5878\n",
      "Epoch 20, CIFAR-10 Batch 4:  Tr Loss/Acc: 1.0531/0.6337 and Val Loss/Acc 1.1605/0.5884\n",
      "Epoch 20, CIFAR-10 Batch 5:  Tr Loss/Acc: 1.0854/0.6485 and Val Loss/Acc 1.1708/0.5882\n",
      "Epoch 21, CIFAR-10 Batch 1:  Tr Loss/Acc: 1.0727/0.6361 and Val Loss/Acc 1.1523/0.5900\n",
      "Epoch 21, CIFAR-10 Batch 2:  Tr Loss/Acc: 1.0683/0.6250 and Val Loss/Acc 1.1574/0.5834\n",
      "Epoch 21, CIFAR-10 Batch 3:  Tr Loss/Acc: 1.0273/0.6312 and Val Loss/Acc 1.1523/0.5916\n",
      "Epoch 21, CIFAR-10 Batch 4:  Tr Loss/Acc: 1.0362/0.6337 and Val Loss/Acc 1.1487/0.5958\n",
      "Epoch 21, CIFAR-10 Batch 5:  Tr Loss/Acc: 1.0656/0.6522 and Val Loss/Acc 1.1566/0.5914\n",
      "Epoch 22, CIFAR-10 Batch 1:  Tr Loss/Acc: 1.0589/0.6386 and Val Loss/Acc 1.1428/0.5940\n",
      "Epoch 22, CIFAR-10 Batch 2:  Tr Loss/Acc: 1.0495/0.6349 and Val Loss/Acc 1.1431/0.5904\n",
      "Epoch 22, CIFAR-10 Batch 3:  Tr Loss/Acc: 1.0132/0.6448 and Val Loss/Acc 1.1412/0.5952\n",
      "Epoch 22, CIFAR-10 Batch 4:  Tr Loss/Acc: 1.0200/0.6386 and Val Loss/Acc 1.1380/0.6010\n",
      "Epoch 22, CIFAR-10 Batch 5:  Tr Loss/Acc: 1.0456/0.6671 and Val Loss/Acc 1.1421/0.5976\n",
      "Epoch 23, CIFAR-10 Batch 1:  Tr Loss/Acc: 1.0451/0.6399 and Val Loss/Acc 1.1328/0.5962\n",
      "Epoch 23, CIFAR-10 Batch 2:  Tr Loss/Acc: 1.0334/0.6361 and Val Loss/Acc 1.1326/0.5964\n",
      "Epoch 23, CIFAR-10 Batch 3:  Tr Loss/Acc: 0.9991/0.6473 and Val Loss/Acc 1.1312/0.5980\n",
      "Epoch 23, CIFAR-10 Batch 4:  Tr Loss/Acc: 1.0055/0.6460 and Val Loss/Acc 1.1295/0.6032\n",
      "Epoch 23, CIFAR-10 Batch 5:  Tr Loss/Acc: 1.0270/0.6720 and Val Loss/Acc 1.1299/0.6008\n",
      "Epoch 24, CIFAR-10 Batch 1:  Tr Loss/Acc: 1.0306/0.6436 and Val Loss/Acc 1.1230/0.5994\n",
      "Epoch 24, CIFAR-10 Batch 2:  Tr Loss/Acc: 1.0182/0.6448 and Val Loss/Acc 1.1224/0.6026\n",
      "Epoch 24, CIFAR-10 Batch 3:  Tr Loss/Acc: 0.9853/0.6498 and Val Loss/Acc 1.1212/0.5978\n",
      "Epoch 24, CIFAR-10 Batch 4:  Tr Loss/Acc: 0.9909/0.6498 and Val Loss/Acc 1.1222/0.6072\n",
      "Epoch 24, CIFAR-10 Batch 5:  Tr Loss/Acc: 1.0092/0.6795 and Val Loss/Acc 1.1186/0.6008\n",
      "Epoch 25, CIFAR-10 Batch 1:  Tr Loss/Acc: 1.0161/0.6510 and Val Loss/Acc 1.1129/0.6056\n",
      "Epoch 25, CIFAR-10 Batch 2:  Tr Loss/Acc: 1.0035/0.6436 and Val Loss/Acc 1.1112/0.6058\n",
      "Epoch 25, CIFAR-10 Batch 3:  Tr Loss/Acc: 0.9708/0.6510 and Val Loss/Acc 1.1114/0.6014\n",
      "Epoch 25, CIFAR-10 Batch 4:  Tr Loss/Acc: 0.9752/0.6584 and Val Loss/Acc 1.1136/0.6076\n",
      "Epoch 25, CIFAR-10 Batch 5:  Tr Loss/Acc: 0.9907/0.6869 and Val Loss/Acc 1.1079/0.6060\n",
      "Epoch 26, CIFAR-10 Batch 1:  Tr Loss/Acc: 1.0014/0.6510 and Val Loss/Acc 1.1031/0.6110\n",
      "Epoch 26, CIFAR-10 Batch 2:  Tr Loss/Acc: 0.9885/0.6485 and Val Loss/Acc 1.1010/0.6098\n",
      "Epoch 26, CIFAR-10 Batch 3:  Tr Loss/Acc: 0.9563/0.6609 and Val Loss/Acc 1.1017/0.6056\n",
      "Epoch 26, CIFAR-10 Batch 4:  Tr Loss/Acc: 0.9611/0.6646 and Val Loss/Acc 1.1060/0.6128\n",
      "Epoch 26, CIFAR-10 Batch 5:  Tr Loss/Acc: 0.9748/0.6943 and Val Loss/Acc 1.0997/0.6098\n",
      "Epoch 27, CIFAR-10 Batch 1:  Tr Loss/Acc: 0.9873/0.6572 and Val Loss/Acc 1.0945/0.6124\n",
      "Epoch 27, CIFAR-10 Batch 2:  Tr Loss/Acc: 0.9756/0.6609 and Val Loss/Acc 1.0912/0.6146\n",
      "Epoch 27, CIFAR-10 Batch 3:  Tr Loss/Acc: 0.9429/0.6708 and Val Loss/Acc 1.0935/0.6110\n",
      "Epoch 27, CIFAR-10 Batch 4:  Tr Loss/Acc: 0.9467/0.6733 and Val Loss/Acc 1.0999/0.6122\n",
      "Epoch 27, CIFAR-10 Batch 5:  Tr Loss/Acc: 0.9644/0.6980 and Val Loss/Acc 1.0984/0.6078\n",
      "Epoch 28, CIFAR-10 Batch 1:  Tr Loss/Acc: 0.9767/0.6559 and Val Loss/Acc 1.0887/0.6146\n",
      "Epoch 28, CIFAR-10 Batch 2:  Tr Loss/Acc: 0.9689/0.6609 and Val Loss/Acc 1.0918/0.6144\n",
      "Epoch 28, CIFAR-10 Batch 3:  Tr Loss/Acc: 0.9357/0.6720 and Val Loss/Acc 1.0933/0.6130\n",
      "Epoch 28, CIFAR-10 Batch 4:  Tr Loss/Acc: 0.9427/0.6745 and Val Loss/Acc 1.1022/0.6128\n",
      "Epoch 28, CIFAR-10 Batch 5:  Tr Loss/Acc: 0.9635/0.6906 and Val Loss/Acc 1.1086/0.6040\n",
      "Epoch 29, CIFAR-10 Batch 1:  Tr Loss/Acc: 0.9767/0.6510 and Val Loss/Acc 1.0925/0.6140\n",
      "Epoch 29, CIFAR-10 Batch 2:  Tr Loss/Acc: 0.9728/0.6621 and Val Loss/Acc 1.1006/0.6100\n",
      "Epoch 29, CIFAR-10 Batch 3:  Tr Loss/Acc: 0.9267/0.6733 and Val Loss/Acc 1.0871/0.6160\n",
      "Epoch 29, CIFAR-10 Batch 4:  Tr Loss/Acc: 0.9372/0.6757 and Val Loss/Acc 1.1044/0.6130\n",
      "Epoch 29, CIFAR-10 Batch 5:  Tr Loss/Acc: 0.9592/0.6943 and Val Loss/Acc 1.1092/0.6064\n",
      "Epoch 30, CIFAR-10 Batch 1:  Tr Loss/Acc: 0.9700/0.6559 and Val Loss/Acc 1.0921/0.6128\n",
      "Epoch 30, CIFAR-10 Batch 2:  Tr Loss/Acc: 0.9526/0.6733 and Val Loss/Acc 1.0804/0.6188\n",
      "Epoch 30, CIFAR-10 Batch 3:  Tr Loss/Acc: 0.9089/0.6832 and Val Loss/Acc 1.0682/0.6212\n",
      "Epoch 30, CIFAR-10 Batch 4:  Tr Loss/Acc: 0.9035/0.6869 and Val Loss/Acc 1.0626/0.6256\n",
      "Epoch 30, CIFAR-10 Batch 5:  Tr Loss/Acc: 0.9199/0.7240 and Val Loss/Acc 1.0725/0.6180\n",
      "Epoch 31, CIFAR-10 Batch 1:  Tr Loss/Acc: 0.9360/0.6646 and Val Loss/Acc 1.0640/0.6258\n",
      "Epoch 31, CIFAR-10 Batch 2:  Tr Loss/Acc: 0.9306/0.6733 and Val Loss/Acc 1.0604/0.6244\n",
      "Epoch 31, CIFAR-10 Batch 3:  Tr Loss/Acc: 0.8960/0.6881 and Val Loss/Acc 1.0602/0.6258\n",
      "Epoch 31, CIFAR-10 Batch 4:  Tr Loss/Acc: 0.8934/0.6980 and Val Loss/Acc 1.0624/0.6264\n",
      "Epoch 31, CIFAR-10 Batch 5:  Tr Loss/Acc: 0.9101/0.7240 and Val Loss/Acc 1.0705/0.6208\n",
      "Epoch 32, CIFAR-10 Batch 1:  Tr Loss/Acc: 0.9300/0.6658 and Val Loss/Acc 1.0594/0.6292\n",
      "Epoch 32, CIFAR-10 Batch 2:  Tr Loss/Acc: 0.9200/0.6844 and Val Loss/Acc 1.0591/0.6240\n",
      "Epoch 32, CIFAR-10 Batch 3:  Tr Loss/Acc: 0.8862/0.6906 and Val Loss/Acc 1.0561/0.6298\n",
      "Epoch 32, CIFAR-10 Batch 4:  Tr Loss/Acc: 0.8964/0.6980 and Val Loss/Acc 1.0752/0.6210\n",
      "Epoch 32, CIFAR-10 Batch 5:  Tr Loss/Acc: 0.9228/0.7017 and Val Loss/Acc 1.0890/0.6160\n",
      "Epoch 33, CIFAR-10 Batch 1:  Tr Loss/Acc: 0.9340/0.6733 and Val Loss/Acc 1.0710/0.6244\n",
      "Epoch 33, CIFAR-10 Batch 2:  Tr Loss/Acc: 0.9212/0.6906 and Val Loss/Acc 1.0634/0.6212\n",
      "Epoch 33, CIFAR-10 Batch 3:  Tr Loss/Acc: 0.8892/0.6881 and Val Loss/Acc 1.0667/0.6266\n",
      "Epoch 33, CIFAR-10 Batch 4:  Tr Loss/Acc: 0.8832/0.6943 and Val Loss/Acc 1.0583/0.6256\n",
      "Epoch 33, CIFAR-10 Batch 5:  Tr Loss/Acc: 0.8937/0.7265 and Val Loss/Acc 1.0678/0.6224\n",
      "Epoch 34, CIFAR-10 Batch 1:  Tr Loss/Acc: 0.9112/0.6782 and Val Loss/Acc 1.0490/0.6312\n",
      "Epoch 34, CIFAR-10 Batch 2:  Tr Loss/Acc: 0.9063/0.6844 and Val Loss/Acc 1.0536/0.6272\n",
      "Epoch 34, CIFAR-10 Batch 3:  Tr Loss/Acc: 0.8660/0.6968 and Val Loss/Acc 1.0447/0.6342\n",
      "Epoch 34, CIFAR-10 Batch 4:  Tr Loss/Acc: 0.8668/0.7092 and Val Loss/Acc 1.0510/0.6318\n",
      "Epoch 34, CIFAR-10 Batch 5:  Tr Loss/Acc: 0.8770/0.7314 and Val Loss/Acc 1.0553/0.6290\n",
      "Epoch 35, CIFAR-10 Batch 1:  Tr Loss/Acc: 0.8970/0.6795 and Val Loss/Acc 1.0380/0.6334\n",
      "Epoch 35, CIFAR-10 Batch 2:  Tr Loss/Acc: 0.8938/0.6894 and Val Loss/Acc 1.0463/0.6294\n",
      "Epoch 35, CIFAR-10 Batch 3:  Tr Loss/Acc: 0.8573/0.6980 and Val Loss/Acc 1.0369/0.6372\n",
      "Epoch 35, CIFAR-10 Batch 4:  Tr Loss/Acc: 0.8693/0.7191 and Val Loss/Acc 1.0621/0.6272\n",
      "Epoch 35, CIFAR-10 Batch 5:  Tr Loss/Acc: 0.8830/0.7191 and Val Loss/Acc 1.0650/0.6244\n"
     ]
    }
   ],
   "source": [
    "\"\"\"\n",
    "DON'T MODIFY ANYTHING IN THIS CELL\n",
    "\"\"\"\n",
    "save_model_path = './image_classification'\n",
    "\n",
    "print('Training...')\n",
    "with tf.Session() as sess:\n",
    "    # Initializing the variables\n",
    "    sess.run(tf.global_variables_initializer())\n",
    "    \n",
    "    # Training cycle\n",
    "    for epoch in range(epochs):\n",
    "        # Loop over all batches\n",
    "        n_batches = 5\n",
    "        for batch_i in range(1, n_batches + 1):\n",
    "            for batch_features, batch_labels in helper.load_preprocess_training_batch(batch_i, batch_size):\n",
    "                train_neural_network(sess, optimizer, keep_probability, batch_features, batch_labels)\n",
    "            print('Epoch {:>2}, CIFAR-10 Batch {}:  '.format(epoch + 1, batch_i), end='')\n",
    "            print_stats(sess, batch_features, batch_labels, cost, accuracy)\n",
    "            \n",
    "    # Save Model\n",
    "    saver = tf.train.Saver()\n",
    "    save_path = saver.save(sess, save_model_path)"
   ]
  },
  {
   "cell_type": "markdown",
   "metadata": {},
   "source": [
    "# Checkpoint\n",
    "The model has been saved to disk.\n",
    "## Test Model\n",
    "Test your model against the test dataset.  This will be your final accuracy. You should have an accuracy greater than 50%. If you don't, keep tweaking the model architecture and parameters."
   ]
  },
  {
   "cell_type": "code",
   "execution_count": 20,
   "metadata": {},
   "outputs": [
    {
     "name": "stdout",
     "output_type": "stream",
     "text": [
      "INFO:tensorflow:Restoring parameters from ./image_classification\n",
      "Testing Accuracy: 0.6236215829849243\n",
      "\n"
     ]
    },
    {
     "data": {
      "image/png": "[encoded data removed]",
      "text/plain": [
       "<matplotlib.figure.Figure at 0x1155a55c0>"
      ]
     },
     "metadata": {
      "image/png": {
       "height": 319,
       "width": 355
      }
     },
     "output_type": "display_data"
    }
   ],
   "source": [
    "\"\"\"\n",
    "DON'T MODIFY ANYTHING IN THIS CELL\n",
    "\"\"\"\n",
    "%matplotlib inline\n",
    "%config InlineBackend.figure_format = 'retina'\n",
    "\n",
    "import tensorflow as tf\n",
    "import pickle\n",
    "import helper\n",
    "import random\n",
    "\n",
    "# Set batch size if not already set\n",
    "try:\n",
    "    if batch_size:\n",
    "        pass\n",
    "except NameError:\n",
    "    batch_size = 64\n",
    "\n",
    "save_model_path = './image_classification'\n",
    "n_samples = 4\n",
    "top_n_predictions = 3\n",
    "\n",
    "def test_model():\n",
    "    \"\"\"\n",
    "    Test the saved model against the test dataset\n",
    "    \"\"\"\n",
    "\n",
    "    test_features, test_labels = pickle.load(open('preprocess_test.p', mode='rb'))\n",
    "    loaded_graph = tf.Graph()\n",
    "\n",
    "    with tf.Session(graph=loaded_graph) as sess:\n",
    "        # Load model\n",
    "        loader = tf.train.import_meta_graph(save_model_path + '.meta')\n",
    "        loader.restore(sess, save_model_path)\n",
    "\n",
    "        # Get Tensors from loaded model\n",
    "        loaded_x = loaded_graph.get_tensor_by_name('x:0')\n",
    "        loaded_y = loaded_graph.get_tensor_by_name('y:0')\n",
    "        loaded_keep_prob = loaded_graph.get_tensor_by_name('keep_prob:0')\n",
    "        loaded_logits = loaded_graph.get_tensor_by_name('logits:0')\n",
    "        loaded_acc = loaded_graph.get_tensor_by_name('accuracy:0')\n",
    "        \n",
    "        # Get accuracy in batches for memory limitations\n",
    "        test_batch_acc_total = 0\n",
    "        test_batch_count = 0\n",
    "        \n",
    "        for test_feature_batch, test_label_batch in helper.batch_features_labels(test_features, test_labels, batch_size):\n",
    "            test_batch_acc_total += sess.run(\n",
    "                loaded_acc,\n",
    "                feed_dict={loaded_x: test_feature_batch, loaded_y: test_label_batch, loaded_keep_prob: 1.0})\n",
    "            test_batch_count += 1\n",
    "\n",
    "        print('Testing Accuracy: {}\\n'.format(test_batch_acc_total/test_batch_count))\n",
    "\n",
    "        # Print Random Samples\n",
    "        random_test_features, random_test_labels = tuple(zip(*random.sample(list(zip(test_features, test_labels)), n_samples)))\n",
    "        random_test_predictions = sess.run(\n",
    "            tf.nn.top_k(tf.nn.softmax(loaded_logits), top_n_predictions),\n",
    "            feed_dict={loaded_x: random_test_features, loaded_y: random_test_labels, loaded_keep_prob: 1.0})\n",
    "        helper.display_image_predictions(random_test_features, random_test_labels, random_test_predictions)\n",
    "\n",
    "\n",
    "test_model()"
   ]
  },
  {
   "cell_type": "markdown",
   "metadata": {},
   "source": [
    "## Why 50-80% Accuracy?\n",
    "You might be wondering why you can't get an accuracy any higher. First things first, 50% isn't bad for a simple CNN.  Pure guessing would get you 10% accuracy. However, you might notice people are getting scores [well above 80%](http://rodrigob.github.io/are_we_there_yet/build/classification_datasets_results.html#43494641522d3130).  That's because we haven't taught you all there is to know about neural networks. We still need to cover a few more techniques.\n",
    "## Submitting This Project\n",
    "When submitting this project, make sure to run all the cells before saving the notebook.  Save the notebook file as \"dlnd_image_classification.ipynb\" and save it as a HTML file under \"File\" -> \"Download as\".  Include the \"helper.py\" and \"problem_unittests.py\" files in your submission."
   ]
  }
 ],
 "metadata": {
  "kernelspec": {
   "display_name": "Python 3",
   "language": "python",
   "name": "python3"
  },
  "language_info": {
   "codemirror_mode": {
    "name": "ipython",
    "version": 3
   },
   "file_extension": ".py",
   "mimetype": "text/x-python",
   "name": "python",
   "nbconvert_exporter": "python",
   "pygments_lexer": "ipython3",
   "version": "3.6.1"
  }
 },
 "nbformat": 4,
 "nbformat_minor": 1
}
